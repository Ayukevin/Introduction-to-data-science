{
 "cells": [
  {
   "cell_type": "markdown",
   "metadata": {},
   "source": [
    "### Conway’s Game of Life\n",
    "Conway’s Game of Life (https://en.wikipedia.org/wiki/Conway%27s_Game_of_Life) is a classic example of a cellular automaton devised by mathematician John Conway. The game is a classic example of how simple rules can give rise to complex behavior. The game is played on an m-by-n board, which we will represent as an m-by-n matrix. The game proceeds in steps. At any given time, each cell of the board (i.e., entry of our matrix), is either alive (which we will represent as a 1) or dead (which we will represent as a 0). At each step, the board evolves according to a few simple rules:\n",
    "\n",
    "• A live cell with fewer than two live neighbors becomes a dead cell.   \n",
    "• A live cell with more than three live neighbors becomes a dead cell.   \n",
    "• A live cell with two or three live neighbors remains alive.  \n",
    "• A dead cell with exactly three live neighbors becomes alive.  \n",
    "• All other dead cells remain dead.  \n",
    "\n",
    "   The neighbors of a cell are the 8 cells adjacent to it, i.e., left, right, above, below, upper- left, lower-left, upper-right and lower-right. We will follow the convention that the board is toroidal, so that using matrix-like notation (i.e., the cell (0,0) is in the upper-left of the board and the first coordinate specifies a row), the upper neighbor of the cell (0,0) is (m − 1,0), the right neighbor of the cell (m − 1,n − 1) is (m − 1,0), etc. That is, the board “wraps around”. \n",
    "   \n",
    "   Note: you are not required to use this matrix-like indexing. It’s just what I chose to use to explain the toroidal property."
   ]
  },
  {
   "cell_type": "code",
   "execution_count": 65,
   "metadata": {},
   "outputs": [],
   "source": [
    "import numpy as np\n",
    "import matplotlib.pyplot as plt\n",
    "import scipy.stats\n",
    "\n",
    "import copy\n",
    "from matplotlib import animation\n",
    "import time\n",
    "from IPython.display import display,clear_output\n",
    "\n",
    "%matplotlib inline"
   ]
  },
  {
   "cell_type": "markdown",
   "metadata": {},
   "source": [
    "1. Write a function <span style=\"font-family:Courier; font-size:1em;\">is_valid_board</span> that takes an m-by-n numpy array (i.e., an ndarray) as its only argument and returns a Python Boolean that is True if and only if the argument is a valid representation of a Game of Life board. A valid board is any two-dimensional numpy ndarray with all entries either 0.0 and 1.0."
   ]
  },
  {
   "cell_type": "code",
   "execution_count": 66,
   "metadata": {},
   "outputs": [],
   "source": [
    "def is_valid_board(a):\n",
    "    A = True\n",
    "    for i in a:\n",
    "        for j in i:\n",
    "            if (j != 0 and j !=1):\n",
    "                A = False\n",
    "    return(A)"
   ]
  },
  {
   "cell_type": "code",
   "execution_count": 67,
   "metadata": {},
   "outputs": [
    {
     "data": {
      "text/plain": [
       "True"
      ]
     },
     "execution_count": 67,
     "metadata": {},
     "output_type": "execute_result"
    }
   ],
   "source": [
    "a = np.array([[0,1,0,1], [1,0,0,1], [1,1,0,0]])\n",
    "is_valid_board(a)"
   ]
  },
  {
   "cell_type": "code",
   "execution_count": 68,
   "metadata": {},
   "outputs": [
    {
     "data": {
      "text/plain": [
       "False"
      ]
     },
     "execution_count": 68,
     "metadata": {},
     "output_type": "execute_result"
    }
   ],
   "source": [
    "b = np.array([[0,1,1,1], [0,0,0,3], [1,1,0,0]])\n",
    "is_valid_board(b)"
   ]
  },
  {
   "cell_type": "markdown",
   "metadata": {},
   "source": [
    "2. Write a function called <span style=\"font-family:Courier; font-size:1em;\">gol_step</span> that takes an m-by-n numpy array as its argument and returns another numpy array of the same size (i.e., also m-by-n), corresponding to the board at the next step of the game. \n",
    "\n",
    "    Your function should perform error checking to ensure that the provided argument is a valid Game of Life board."
   ]
  },
  {
   "cell_type": "code",
   "execution_count": 69,
   "metadata": {},
   "outputs": [],
   "source": [
    "def gol_step(a):\n",
    "    size = np.shape(a)\n",
    "    board = np.zeros(size)\n",
    "    return(board)\n"
   ]
  },
  {
   "cell_type": "code",
   "execution_count": 70,
   "metadata": {},
   "outputs": [
    {
     "name": "stdout",
     "output_type": "stream",
     "text": [
      "[[0. 0. 0. 0. 0.]\n",
      " [0. 0. 0. 0. 0.]\n",
      " [0. 0. 0. 0. 0.]\n",
      " [0. 0. 0. 0. 0.]\n",
      " [0. 0. 0. 0. 0.]]\n"
     ]
    }
   ],
   "source": [
    "x = np.array([[0, 1, 0, 0, 0],\n",
    " [1, 0, 0, 1, 0],\n",
    " [1, 0, 0, 0, 1],\n",
    " [0, 1, 0, 0, 0],\n",
    " [0, 0, 0, 0, 0]])\n",
    "y = gol_step(x)\n",
    "print(y)\n"
   ]
  },
  {
   "cell_type": "markdown",
   "metadata": {},
   "source": [
    "3. Write a function called draw_gol_board that takes an m-by-n numpy array (i.e., an ndarray) as its only argument and draws the board as an m-by-n set of tiles, colored black or white correspond to whether the corresponding cell is alive or dead, respectively. Your plot should not have any grid lines, nor should it have any axis labels or axis ticks. \n",
    "\n",
    "    Hint: see the functions plt.xticks() and plt.yticks() for changing axis ticks. \n",
    "    \n",
    "    Hint: you may find the function plt.get_cmap to be useful for working with the matplotlib Colormap objects."
   ]
  },
  {
   "cell_type": "code",
   "execution_count": 71,
   "metadata": {},
   "outputs": [],
   "source": [
    "def draw_gol_board(a):\n",
    "    plt.figure(frameon=False)\n",
    "    plt.imshow(a, cmap='gray_r', interpolation='nearest')\n",
    "    plt.xticks([])\n",
    "    plt.yticks([])\n",
    "\n"
   ]
  },
  {
   "cell_type": "code",
   "execution_count": 72,
   "metadata": {},
   "outputs": [
    {
     "data": {
      "image/png": "[encoded data removed]",
      "text/plain": [
       "<Figure size 640x480 with 1 Axes>"
      ]
     },
     "metadata": {},
     "output_type": "display_data"
    }
   ],
   "source": [
    "x\n",
    "board = draw_gol_board(x)"
   ]
  },
  {
   "cell_type": "code",
   "execution_count": 73,
   "metadata": {},
   "outputs": [
    {
     "data": {
      "image/png": "[encoded data removed]",
      "text/plain": [
       "<Figure size 640x480 with 1 Axes>"
      ]
     },
     "metadata": {},
     "output_type": "display_data"
    }
   ],
   "source": [
    "board = draw_gol_board(x)"
   ]
  },
  {
   "cell_type": "markdown",
   "metadata": {},
   "source": [
    "4.  Create a 20-by-20 numpy array corresponding to a Game of Life board in which all cells are dead, with the exception that the top-left 5-by-5 section of the board looks like this:\n",
    "    \n",
    "    Plot this 20-by-20 board using draw_gol_board."
   ]
  },
  {
   "cell_type": "code",
   "execution_count": 74,
   "metadata": {},
   "outputs": [
    {
     "data": {
      "image/png": "[encoded data removed]",
      "text/plain": [
       "<Figure size 640x480 with 1 Axes>"
      ]
     },
     "metadata": {},
     "output_type": "display_data"
    }
   ],
   "source": [
    "def init():\n",
    "    board = np.zeros((20,20))\n",
    "    black = [\n",
    "        [1,2],\n",
    "        [2,3],\n",
    "        [3,1],\n",
    "        [3,2],\n",
    "        [3,3]\n",
    "    ]\n",
    "    for i in black:\n",
    "        board[i[0]][i[1]] = 1\n",
    "    return board\n",
    "\n",
    "board = init()\n",
    "draw_gol_board(board)\n"
   ]
  },
  {
   "cell_type": "markdown",
   "metadata": {},
   "source": [
    "5. Generate a plot with 5 subplots, arranged in a 5-by-1 grid, showing the first five steps of the Game of Life when started with the board you just created, with the steps ordered from top to bottom, The figure in the 5-by-5 sub-board above is called a glider, and it is interesting in that, as you can see from your plot, it seems to move along the board as you run the game."
   ]
  },
  {
   "cell_type": "code",
   "execution_count": 75,
   "metadata": {},
   "outputs": [
    {
     "data": {
      "image/png": "[encoded data removed]",
      "text/plain": [
       "<Figure size 640x480 with 1 Axes>"
      ]
     },
     "metadata": {},
     "output_type": "display_data"
    },
    {
     "data": {
      "image/png": "[encoded data removed]",
      "text/plain": [
       "<Figure size 640x480 with 1 Axes>"
      ]
     },
     "metadata": {},
     "output_type": "display_data"
    },
    {
     "data": {
      "image/png": "[encoded data removed]",
      "text/plain": [
       "<Figure size 640x480 with 1 Axes>"
      ]
     },
     "metadata": {},
     "output_type": "display_data"
    },
    {
     "data": {
      "image/png": "[encoded data removed]",
      "text/plain": [
       "<Figure size 640x480 with 1 Axes>"
      ]
     },
     "metadata": {},
     "output_type": "display_data"
    },
    {
     "data": {
      "image/png": "[encoded data removed]",
      "text/plain": [
       "<Figure size 640x480 with 1 Axes>"
      ]
     },
     "metadata": {},
     "output_type": "display_data"
    }
   ],
   "source": [
    "def alive(grid,y,x):\n",
    "    around = [[y-1,y,y+1],[x-1,x,x+1]]\n",
    "    if y+1 == len(grid):\n",
    "        around[0][2] = 0\n",
    "    if x+1 == len(grid):\n",
    "        around[1][2] = 0\n",
    "\n",
    "    neighbor = []\n",
    "    for i in range(3):\n",
    "        for j in range(3):\n",
    "            if i ==1 and j == 1:\n",
    "                continue\n",
    "            neighbor.append([around[0][i],around[1][j]])\n",
    "    \n",
    "    total = 0\n",
    "    for i in neighbor :\n",
    "        y = i[0]\n",
    "        x = i[1]\n",
    "        total += board[y][x]\n",
    "\n",
    "    return total\n",
    "\n",
    "def iteration(grid):\n",
    "    new_board = np.copy(grid) #不影響原本的格式導致判斷錯誤\n",
    "    rows , columns =  len(grid), len(grid[0])\n",
    "\n",
    "    for i in range(rows):\n",
    "        for j in range(columns):\n",
    "            value = grid[i][j]\n",
    "            neighbor = alive(board,i,j)\n",
    "            if value ==1:\n",
    "                if neighbor <2 or neighbor >3: #非<2或>3，繼續存活\n",
    "                    new_board[i][j] =0\n",
    "            else:\n",
    "                if neighbor ==3:\n",
    "                    new_board[i][j] =1\n",
    "    return new_board\n",
    "\n",
    "draw_gol_board(board)\n",
    "for step in range(4):\n",
    "    board = iteration(board)\n",
    "    draw_gol_board(board)\n"
   ]
  },
  {
   "cell_type": "markdown",
   "metadata": {},
   "source": [
    "6. Create a function called draw_animation that takes two arguments, a Game of Life board and a number of steps, and generates an animation of the game as it runs for the given number of steps."
   ]
  },
  {
   "cell_type": "code",
   "execution_count": 76,
   "metadata": {},
   "outputs": [],
   "source": [
    "def draw_animation(board,times): \n",
    "\n",
    "    fig, ax = plt.subplots()\n",
    "    img = ax.imshow(board, cmap='gray_r', interpolation='none')  #移除框線\n",
    "    ax.set_xticks([])  \n",
    "    ax.set_yticks([])  \n",
    "\n",
    "    \n",
    "    def update(frame):\n",
    "        global board #直接針對全域board進行修改\n",
    "        board = iteration(board)  \n",
    "        img.set_data(board)  \n",
    "        return [img]\n",
    "\n",
    "    ani = animation.FuncAnimation(fig, update, frames=times, interval=200) #, blit=True\n",
    "\n",
    "    # 顯示動畫\n",
    "    ani.save('game_of_life.gif', writer='imagemagick') #我的vscode無法顯示動畫，所以以另存gif的方式提供助教們檢查。謝謝你們，辛苦了\n",
    "    plt.show()\n",
    "    "
   ]
  },
  {
   "cell_type": "code",
   "execution_count": 77,
   "metadata": {},
   "outputs": [
    {
     "name": "stderr",
     "output_type": "stream",
     "text": [
      "MovieWriter imagemagick unavailable; using Pillow instead.\n"
     ]
    },
    {
     "data": {
      "image/png": "[encoded data removed]",
      "text/plain": [
       "<Figure size 640x480 with 1 Axes>"
      ]
     },
     "metadata": {},
     "output_type": "display_data"
    }
   ],
   "source": [
    "a = init()\n",
    "draw_animation(a,100)"
   ]
  }
 ],
 "metadata": {
  "kernelspec": {
   "display_name": "Python 3",
   "language": "python",
   "name": "python3"
  },
  "language_info": {
   "codemirror_mode": {
    "name": "ipython",
    "version": 3
   },
   "file_extension": ".py",
   "mimetype": "text/x-python",
   "name": "python",
   "nbconvert_exporter": "python",
   "pygments_lexer": "ipython3",
   "version": "3.11.4"
  }
 },
 "nbformat": 4,
 "nbformat_minor": 2
}
