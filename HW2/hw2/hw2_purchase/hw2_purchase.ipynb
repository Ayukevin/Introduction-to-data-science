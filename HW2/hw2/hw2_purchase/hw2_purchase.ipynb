{
 "cells": [
  {
   "cell_type": "markdown",
   "metadata": {},
   "source": [
    "### In-Game Purchase Data Analysis\n",
    "\n",
    "#### Background \n",
    "\n",
    "In this homework, you are ask to deal with a task of analyzing an \"in-game purchase\" dataset. In this game, players are able to to purchase optional items that enhance their playing experience. Now your task is to generate a report that breaks down the game's purchasing data into meaningful insights.\n",
    "\n",
    "-----\n",
    "\n",
    "#### Observable Trends\n",
    "\n",
    "* There are 1163 active players. The vast majority are male (84%). There also exists, a smaller, but notable proportion of female players (14%).\n",
    "\n",
    "* Our peak age demographic falls between 20-24 (44.79%) with secondary groups falling between 15-19 (18.58%) and 25-29 (13.37%). \n",
    "\n",
    "* The age group that spends the most money is the 20-24 with 1,114.06 dollars as total purchase value and an average purchase of 4.32. In contrast, the demographic group that has the highest average purchase is the 35-39 with 4.76 and a total purchase value of 147.67. \n",
    "-----\n"
   ]
  },
  {
   "cell_type": "code",
   "execution_count": 2,
   "metadata": {},
   "outputs": [
    {
     "data": {
      "text/html": [
       "<div>\n",
       "<style scoped>\n",
       "    .dataframe tbody tr th:only-of-type {\n",
       "        vertical-align: middle;\n",
       "    }\n",
       "\n",
       "    .dataframe tbody tr th {\n",
       "        vertical-align: top;\n",
       "    }\n",
       "\n",
       "    .dataframe thead th {\n",
       "        text-align: right;\n",
       "    }\n",
       "</style>\n",
       "<table border=\"1\" class=\"dataframe\">\n",
       "  <thead>\n",
       "    <tr style=\"text-align: right;\">\n",
       "      <th></th>\n",
       "      <th>Purchase ID</th>\n",
       "      <th>SN</th>\n",
       "      <th>Age</th>\n",
       "      <th>Gender</th>\n",
       "      <th>Item ID</th>\n",
       "      <th>Item Name</th>\n",
       "      <th>Price</th>\n",
       "    </tr>\n",
       "  </thead>\n",
       "  <tbody>\n",
       "    <tr>\n",
       "      <th>0</th>\n",
       "      <td>0</td>\n",
       "      <td>Lisim78</td>\n",
       "      <td>20</td>\n",
       "      <td>Male</td>\n",
       "      <td>108</td>\n",
       "      <td>Extraction, Quickblade Of Trembling Hands</td>\n",
       "      <td>3.53</td>\n",
       "    </tr>\n",
       "    <tr>\n",
       "      <th>1</th>\n",
       "      <td>1</td>\n",
       "      <td>Lisovynya38</td>\n",
       "      <td>40</td>\n",
       "      <td>Male</td>\n",
       "      <td>143</td>\n",
       "      <td>Frenzied Scimitar</td>\n",
       "      <td>1.56</td>\n",
       "    </tr>\n",
       "    <tr>\n",
       "      <th>2</th>\n",
       "      <td>2</td>\n",
       "      <td>Ithergue48</td>\n",
       "      <td>24</td>\n",
       "      <td>Male</td>\n",
       "      <td>92</td>\n",
       "      <td>Final Critic</td>\n",
       "      <td>4.88</td>\n",
       "    </tr>\n",
       "    <tr>\n",
       "      <th>3</th>\n",
       "      <td>3</td>\n",
       "      <td>Chamassasya86</td>\n",
       "      <td>24</td>\n",
       "      <td>Male</td>\n",
       "      <td>100</td>\n",
       "      <td>Blindscythe</td>\n",
       "      <td>3.27</td>\n",
       "    </tr>\n",
       "    <tr>\n",
       "      <th>4</th>\n",
       "      <td>4</td>\n",
       "      <td>Iskosia90</td>\n",
       "      <td>23</td>\n",
       "      <td>Male</td>\n",
       "      <td>131</td>\n",
       "      <td>Fury</td>\n",
       "      <td>1.44</td>\n",
       "    </tr>\n",
       "  </tbody>\n",
       "</table>\n",
       "</div>"
      ],
      "text/plain": [
       "   Purchase ID             SN  Age Gender  Item ID  \\\n",
       "0            0        Lisim78   20   Male      108   \n",
       "1            1    Lisovynya38   40   Male      143   \n",
       "2            2     Ithergue48   24   Male       92   \n",
       "3            3  Chamassasya86   24   Male      100   \n",
       "4            4      Iskosia90   23   Male      131   \n",
       "\n",
       "                                   Item Name  Price  \n",
       "0  Extraction, Quickblade Of Trembling Hands   3.53  \n",
       "1                          Frenzied Scimitar   1.56  \n",
       "2                               Final Critic   4.88  \n",
       "3                                Blindscythe   3.27  \n",
       "4                                       Fury   1.44  "
      ]
     },
     "execution_count": 2,
     "metadata": {},
     "output_type": "execute_result"
    }
   ],
   "source": [
    "import pandas as pd\n",
    "import numpy as np\n",
    "\n",
    "# Raw data file\n",
    "file_to_load = \"purchase_data.csv\"\n",
    "\n",
    "# Read purchasing file and store into pandas data frame\n",
    "purchase_data = pd.read_csv(file_to_load)\n",
    "purchase_data.head()"
   ]
  },
  {
   "cell_type": "markdown",
   "metadata": {},
   "source": [
    "## Player Count"
   ]
  },
  {
   "cell_type": "markdown",
   "metadata": {},
   "source": [
    "* Display the total number of players\n"
   ]
  },
  {
   "cell_type": "code",
   "execution_count": 21,
   "metadata": {},
   "outputs": [
    {
     "data": {
      "text/html": [
       "<div>\n",
       "<style scoped>\n",
       "    .dataframe tbody tr th:only-of-type {\n",
       "        vertical-align: middle;\n",
       "    }\n",
       "\n",
       "    .dataframe tbody tr th {\n",
       "        vertical-align: top;\n",
       "    }\n",
       "\n",
       "    .dataframe thead th {\n",
       "        text-align: right;\n",
       "    }\n",
       "</style>\n",
       "<table border=\"1\" class=\"dataframe\">\n",
       "  <thead>\n",
       "    <tr style=\"text-align: right;\">\n",
       "      <th></th>\n",
       "      <th>Total Players</th>\n",
       "    </tr>\n",
       "  </thead>\n",
       "  <tbody>\n",
       "    <tr>\n",
       "      <th>0</th>\n",
       "      <td>576</td>\n",
       "    </tr>\n",
       "  </tbody>\n",
       "</table>\n",
       "</div>"
      ],
      "text/plain": [
       "   Total Players\n",
       "0            576"
      ]
     },
     "execution_count": 21,
     "metadata": {},
     "output_type": "execute_result"
    }
   ],
   "source": [
    "Total_Players = purchase_data['SN'].nunique()\n",
    "\n",
    "pd.DataFrame({'Total Players':Total_Players},index=[0])"
   ]
  },
  {
   "cell_type": "markdown",
   "metadata": {},
   "source": [
    "## Purchasing Analysis (Total)"
   ]
  },
  {
   "cell_type": "markdown",
   "metadata": {},
   "source": [
    "* Run basic calculations to obtain number of unique items, average price, etc.\n",
    "* Create a summary data frame to hold the results\n",
    "* Display the summary data frame"
   ]
  },
  {
   "cell_type": "code",
   "execution_count": 24,
   "metadata": {},
   "outputs": [
    {
     "data": {
      "text/html": [
       "<div>\n",
       "<style scoped>\n",
       "    .dataframe tbody tr th:only-of-type {\n",
       "        vertical-align: middle;\n",
       "    }\n",
       "\n",
       "    .dataframe tbody tr th {\n",
       "        vertical-align: top;\n",
       "    }\n",
       "\n",
       "    .dataframe thead th {\n",
       "        text-align: right;\n",
       "    }\n",
       "</style>\n",
       "<table border=\"1\" class=\"dataframe\">\n",
       "  <thead>\n",
       "    <tr style=\"text-align: right;\">\n",
       "      <th></th>\n",
       "      <th>Number of Unique Items</th>\n",
       "      <th>Average Price</th>\n",
       "      <th>Number of Purchases</th>\n",
       "      <th>Total Revenue</th>\n",
       "    </tr>\n",
       "  </thead>\n",
       "  <tbody>\n",
       "    <tr>\n",
       "      <th>0</th>\n",
       "      <td>226</td>\n",
       "      <td>3.050987</td>\n",
       "      <td>780</td>\n",
       "      <td>2379.77</td>\n",
       "    </tr>\n",
       "  </tbody>\n",
       "</table>\n",
       "</div>"
      ],
      "text/plain": [
       "   Number of Unique Items  Average Price  Number of Purchases  Total Revenue\n",
       "0                     226       3.050987                  780        2379.77"
      ]
     },
     "execution_count": 26,
     "metadata": {},
     "output_type": "execute_result"
    }
   ],
   "source": [
    "all_items = purchase_data['Item Name'].str.split(',').apply(lambda x: [item.strip() for item in x]).explode()\n",
    "unique_items = all_items.nunique()\n",
    "unique_item = purchase_data['Item Name'].nunique()\n",
    "avg_price = np.average(purchase_data['Price'])\n",
    "nPurchase = purchase_data.shape[0]\n",
    "tRevenue = np.sum(purchase_data['Price'])\n",
    "pd.DataFrame({'Number of Unique Items':unique_items,\n",
    "              'Average Price':avg_price,\n",
    "              'Number of Purchases':nPurchase,\n",
    "              'Total Revenue':tRevenue},index=[0])\n",
    "\n",
    "#第一題答案不對\n"
   ]
  },
  {
   "cell_type": "code",
   "execution_count": 3,
   "metadata": {
    "scrolled": true
   },
   "outputs": [
    {
     "data": {
      "text/html": [
       "<style  type=\"text/css\" >\n",
       "</style><table id=\"T_04f2b8d0_4411_11e9_97a1_9822ef93214c\" ><thead>    <tr>        <th class=\"blank level0\" ></th>        <th class=\"col_heading level0 col0\" >Number of Unique Items</th>        <th class=\"col_heading level0 col1\" >Average Price</th>        <th class=\"col_heading level0 col2\" >Number of Purchases</th>        <th class=\"col_heading level0 col3\" >Total Revenue</th>    </tr></thead><tbody>\n",
       "                <tr>\n",
       "                        <th id=\"T_04f2b8d0_4411_11e9_97a1_9822ef93214clevel0_row0\" class=\"row_heading level0 row0\" >0</th>\n",
       "                        <td id=\"T_04f2b8d0_4411_11e9_97a1_9822ef93214crow0_col0\" class=\"data row0 col0\" >183</td>\n",
       "                        <td id=\"T_04f2b8d0_4411_11e9_97a1_9822ef93214crow0_col1\" class=\"data row0 col1\" >$3.05</td>\n",
       "                        <td id=\"T_04f2b8d0_4411_11e9_97a1_9822ef93214crow0_col2\" class=\"data row0 col2\" >780</td>\n",
       "                        <td id=\"T_04f2b8d0_4411_11e9_97a1_9822ef93214crow0_col3\" class=\"data row0 col3\" >$2,379.77</td>\n",
       "            </tr>\n",
       "    </tbody></table>"
      ],
      "text/plain": [
       "<pandas.io.formats.style.Styler at 0x5a3b890>"
      ]
     },
     "execution_count": 3,
     "metadata": {},
     "output_type": "execute_result"
    }
   ],
   "source": []
  },
  {
   "cell_type": "markdown",
   "metadata": {},
   "source": [
    "## Gender Demographics"
   ]
  },
  {
   "cell_type": "markdown",
   "metadata": {},
   "source": [
    "* Percentage and Count of Male Players\n",
    "\n",
    "\n",
    "* Percentage and Count of Female Players\n",
    "\n",
    "\n",
    "* Percentage and Count of Other / Non-Disclosed\n",
    "\n",
    "\n"
   ]
  },
  {
   "cell_type": "code",
   "execution_count": 56,
   "metadata": {},
   "outputs": [
    {
     "data": {
      "text/html": [
       "<div>\n",
       "<style scoped>\n",
       "    .dataframe tbody tr th:only-of-type {\n",
       "        vertical-align: middle;\n",
       "    }\n",
       "\n",
       "    .dataframe tbody tr th {\n",
       "        vertical-align: top;\n",
       "    }\n",
       "\n",
       "    .dataframe thead th {\n",
       "        text-align: right;\n",
       "    }\n",
       "</style>\n",
       "<table border=\"1\" class=\"dataframe\">\n",
       "  <thead>\n",
       "    <tr style=\"text-align: right;\">\n",
       "      <th></th>\n",
       "      <th>Percentage of Players</th>\n",
       "      <th>Total Count</th>\n",
       "    </tr>\n",
       "  </thead>\n",
       "  <tbody>\n",
       "    <tr>\n",
       "      <th>Male</th>\n",
       "      <td>84.03</td>\n",
       "      <td>484</td>\n",
       "    </tr>\n",
       "    <tr>\n",
       "      <th>Female</th>\n",
       "      <td>14.06</td>\n",
       "      <td>81</td>\n",
       "    </tr>\n",
       "    <tr>\n",
       "      <th>Other / Non-Disclosed</th>\n",
       "      <td>1.91</td>\n",
       "      <td>11</td>\n",
       "    </tr>\n",
       "  </tbody>\n",
       "</table>\n",
       "</div>"
      ],
      "text/plain": [
       "                       Percentage of Players  Total Count\n",
       "Male                                   84.03          484\n",
       "Female                                 14.06           81\n",
       "Other / Non-Disclosed                   1.91           11"
      ]
     },
     "execution_count": 56,
     "metadata": {},
     "output_type": "execute_result"
    }
   ],
   "source": [
    "selected_column = ['SN','Gender']\n",
    "df = purchase_data[selected_column]\n",
    "unique_df = df.drop_duplicates(subset=['SN'])\n",
    "\n",
    "tMale = np.sum(unique_df['Gender'] == 'Male')\n",
    "tFemale = np.sum(unique_df['Gender'] == 'Female')\n",
    "tOther = np.sum(unique_df['Gender'] == 'Other / Non-Disclosed')\n",
    "\n",
    "sum = tMale + tFemale +tOther\n",
    "\n",
    "m_ratio = np.round((tMale/sum)*100,decimals=2)\n",
    "f_ratio = np.round((tFemale/sum)*100,decimals=2)\n",
    "o_ratio = np.round((tOther/sum)*100,decimals=2)\n",
    "\n",
    "temp = {'Male':[m_ratio,tMale],'Female':[f_ratio,tFemale],'Other / Non-Disclosed':[o_ratio,tOther]}\n",
    "pd.DataFrame.from_dict(temp,orient='index').rename(columns={0:'Percentage of Players',1:'Total Count'})"
   ]
  },
  {
   "cell_type": "markdown",
   "metadata": {},
   "source": [
    "\n",
    "## Purchasing Analysis (Gender)"
   ]
  },
  {
   "cell_type": "markdown",
   "metadata": {},
   "source": [
    "* Run basic calculations to obtain below values by gender\n",
    "  * Purchase Count\n",
    "  * Average Purchase Price  \n",
    "  * Total Purchase Value\n",
    "  * Average Purchase Total per Person by Gender\n",
    "* Create a summary data frame to hold the results\n",
    "* Display the summary data frame"
   ]
  },
  {
   "cell_type": "code",
   "execution_count": 88,
   "metadata": {},
   "outputs": [
    {
     "data": {
      "text/html": [
       "<div>\n",
       "<style scoped>\n",
       "    .dataframe tbody tr th:only-of-type {\n",
       "        vertical-align: middle;\n",
       "    }\n",
       "\n",
       "    .dataframe tbody tr th {\n",
       "        vertical-align: top;\n",
       "    }\n",
       "\n",
       "    .dataframe thead th {\n",
       "        text-align: right;\n",
       "    }\n",
       "</style>\n",
       "<table border=\"1\" class=\"dataframe\">\n",
       "  <thead>\n",
       "    <tr style=\"text-align: right;\">\n",
       "      <th></th>\n",
       "      <th>Purchase Count Average</th>\n",
       "      <th>Purchase Price</th>\n",
       "      <th>Total Purchase Value</th>\n",
       "      <th>Avg Purchase Total per Person</th>\n",
       "    </tr>\n",
       "  </thead>\n",
       "  <tbody>\n",
       "    <tr>\n",
       "      <th>Female</th>\n",
       "      <td>113</td>\n",
       "      <td>3.20301</td>\n",
       "      <td>361.94</td>\n",
       "      <td>4.47</td>\n",
       "    </tr>\n",
       "    <tr>\n",
       "      <th>Male</th>\n",
       "      <td>652</td>\n",
       "      <td>3.01785</td>\n",
       "      <td>1967.64</td>\n",
       "      <td>4.07</td>\n",
       "    </tr>\n",
       "    <tr>\n",
       "      <th>Other / Non-Disclosed</th>\n",
       "      <td>15</td>\n",
       "      <td>3.34600</td>\n",
       "      <td>50.19</td>\n",
       "      <td>4.56</td>\n",
       "    </tr>\n",
       "  </tbody>\n",
       "</table>\n",
       "</div>"
      ],
      "text/plain": [
       "                       Purchase Count Average  Purchase Price  \\\n",
       "Female                                    113         3.20301   \n",
       "Male                                      652         3.01785   \n",
       "Other / Non-Disclosed                      15         3.34600   \n",
       "\n",
       "                       Total Purchase Value  Avg Purchase Total per Person  \n",
       "Female                               361.94                           4.47  \n",
       "Male                                1967.64                           4.07  \n",
       "Other / Non-Disclosed                 50.19                           4.56  "
      ]
     },
     "execution_count": 88,
     "metadata": {},
     "output_type": "execute_result"
    }
   ],
   "source": [
    "genders = ['Female','Male','Other / Non-Disclosed']\n",
    "t = [tFemale,tMale,tOther]\n",
    "\n",
    "temp = {}\n",
    "for i in range(len(genders)):\n",
    "    gender = genders[i]\n",
    "    temp[gender] = [np.sum(purchase_data['Gender'] == gender)]\n",
    "    tPurchase = purchase_data[(purchase_data['Gender'] == gender)].groupby(['Gender'])['Price'].sum().iloc[0]\n",
    "    aPusrchase = np.round(tPurchase/temp[gender][0],decimals=5)\n",
    "    per_aPusrchase = np.round(tPurchase/t[i],decimals=2)\n",
    "    temp[gender].extend([aPusrchase,tPurchase,per_aPusrchase]) #\n",
    "\n",
    "\n",
    "df = pd.DataFrame.from_dict(temp,\n",
    "                            orient='index',\n",
    "                            columns=['Purchase Count Average', 'Purchase Price'\t,'Total Purchase Value'\t,'Avg Purchase Total per Person'])\n",
    "df"
   ]
  },
  {
   "cell_type": "code",
   "execution_count": 5,
   "metadata": {},
   "outputs": [
    {
     "data": {
      "text/html": [
       "<style  type=\"text/css\" >\n",
       "</style><table id=\"T_0501c9ae_4411_11e9_8908_9822ef93214c\" ><thead>    <tr>        <th class=\"blank level0\" ></th>        <th class=\"col_heading level0 col0\" >Purchase Count</th>        <th class=\"col_heading level0 col1\" >Average Purchase Price</th>        <th class=\"col_heading level0 col2\" >Total Purchase Value</th>        <th class=\"col_heading level0 col3\" >Avg Purchase Total per Person</th>    </tr>    <tr>        <th class=\"index_name level0\" >Gender</th>        <th class=\"blank\" ></th>        <th class=\"blank\" ></th>        <th class=\"blank\" ></th>        <th class=\"blank\" ></th>    </tr></thead><tbody>\n",
       "                <tr>\n",
       "                        <th id=\"T_0501c9ae_4411_11e9_8908_9822ef93214clevel0_row0\" class=\"row_heading level0 row0\" >Female</th>\n",
       "                        <td id=\"T_0501c9ae_4411_11e9_8908_9822ef93214crow0_col0\" class=\"data row0 col0\" >113</td>\n",
       "                        <td id=\"T_0501c9ae_4411_11e9_8908_9822ef93214crow0_col1\" class=\"data row0 col1\" >3.20301</td>\n",
       "                        <td id=\"T_0501c9ae_4411_11e9_8908_9822ef93214crow0_col2\" class=\"data row0 col2\" >361.94</td>\n",
       "                        <td id=\"T_0501c9ae_4411_11e9_8908_9822ef93214crow0_col3\" class=\"data row0 col3\" >$4.47</td>\n",
       "            </tr>\n",
       "            <tr>\n",
       "                        <th id=\"T_0501c9ae_4411_11e9_8908_9822ef93214clevel0_row1\" class=\"row_heading level0 row1\" >Male</th>\n",
       "                        <td id=\"T_0501c9ae_4411_11e9_8908_9822ef93214crow1_col0\" class=\"data row1 col0\" >652</td>\n",
       "                        <td id=\"T_0501c9ae_4411_11e9_8908_9822ef93214crow1_col1\" class=\"data row1 col1\" >3.01785</td>\n",
       "                        <td id=\"T_0501c9ae_4411_11e9_8908_9822ef93214crow1_col2\" class=\"data row1 col2\" >1967.64</td>\n",
       "                        <td id=\"T_0501c9ae_4411_11e9_8908_9822ef93214crow1_col3\" class=\"data row1 col3\" >$4.07</td>\n",
       "            </tr>\n",
       "            <tr>\n",
       "                        <th id=\"T_0501c9ae_4411_11e9_8908_9822ef93214clevel0_row2\" class=\"row_heading level0 row2\" >Other / Non-Disclosed</th>\n",
       "                        <td id=\"T_0501c9ae_4411_11e9_8908_9822ef93214crow2_col0\" class=\"data row2 col0\" >15</td>\n",
       "                        <td id=\"T_0501c9ae_4411_11e9_8908_9822ef93214crow2_col1\" class=\"data row2 col1\" >3.346</td>\n",
       "                        <td id=\"T_0501c9ae_4411_11e9_8908_9822ef93214crow2_col2\" class=\"data row2 col2\" >50.19</td>\n",
       "                        <td id=\"T_0501c9ae_4411_11e9_8908_9822ef93214crow2_col3\" class=\"data row2 col3\" >$4.56</td>\n",
       "            </tr>\n",
       "    </tbody></table>"
      ],
      "text/plain": [
       "<pandas.io.formats.style.Styler at 0xc1c7310>"
      ]
     },
     "execution_count": 5,
     "metadata": {},
     "output_type": "execute_result"
    }
   ],
   "source": []
  },
  {
   "cell_type": "markdown",
   "metadata": {},
   "source": [
    "## Age Demographics"
   ]
  },
  {
   "cell_type": "markdown",
   "metadata": {},
   "source": [
    "* Categorize players using the age groups. Hint: use pd.cut()\n",
    "  * each group is for 4 years (i.e. &lt;10, 10-14, 15-19, etc.)\n",
    "* Calculate the numbers and percentages by age group\n",
    "* Create a summary data frame to hold the results\n",
    "* round the percentage column to two decimal points\n",
    "* Display Age Demographics Table"
   ]
  },
  {
   "cell_type": "code",
   "execution_count": null,
   "metadata": {},
   "outputs": [],
   "source": []
  },
  {
   "cell_type": "code",
   "execution_count": 6,
   "metadata": {},
   "outputs": [
    {
     "data": {
      "text/html": [
       "<style  type=\"text/css\" >\n",
       "</style><table id=\"T_050994da_4411_11e9_894a_9822ef93214c\" ><thead>    <tr>        <th class=\"blank level0\" ></th>        <th class=\"col_heading level0 col0\" >Percentage of Players</th>        <th class=\"col_heading level0 col1\" >Total Count</th>    </tr></thead><tbody>\n",
       "                <tr>\n",
       "                        <th id=\"T_050994da_4411_11e9_894a_9822ef93214clevel0_row0\" class=\"row_heading level0 row0\" ><10</th>\n",
       "                        <td id=\"T_050994da_4411_11e9_894a_9822ef93214crow0_col0\" class=\"data row0 col0\" >2.95</td>\n",
       "                        <td id=\"T_050994da_4411_11e9_894a_9822ef93214crow0_col1\" class=\"data row0 col1\" >17</td>\n",
       "            </tr>\n",
       "            <tr>\n",
       "                        <th id=\"T_050994da_4411_11e9_894a_9822ef93214clevel0_row1\" class=\"row_heading level0 row1\" >10-14</th>\n",
       "                        <td id=\"T_050994da_4411_11e9_894a_9822ef93214crow1_col0\" class=\"data row1 col0\" >3.82</td>\n",
       "                        <td id=\"T_050994da_4411_11e9_894a_9822ef93214crow1_col1\" class=\"data row1 col1\" >22</td>\n",
       "            </tr>\n",
       "            <tr>\n",
       "                        <th id=\"T_050994da_4411_11e9_894a_9822ef93214clevel0_row2\" class=\"row_heading level0 row2\" >15-19</th>\n",
       "                        <td id=\"T_050994da_4411_11e9_894a_9822ef93214crow2_col0\" class=\"data row2 col0\" >18.58</td>\n",
       "                        <td id=\"T_050994da_4411_11e9_894a_9822ef93214crow2_col1\" class=\"data row2 col1\" >107</td>\n",
       "            </tr>\n",
       "            <tr>\n",
       "                        <th id=\"T_050994da_4411_11e9_894a_9822ef93214clevel0_row3\" class=\"row_heading level0 row3\" >20-24</th>\n",
       "                        <td id=\"T_050994da_4411_11e9_894a_9822ef93214crow3_col0\" class=\"data row3 col0\" >44.79</td>\n",
       "                        <td id=\"T_050994da_4411_11e9_894a_9822ef93214crow3_col1\" class=\"data row3 col1\" >258</td>\n",
       "            </tr>\n",
       "            <tr>\n",
       "                        <th id=\"T_050994da_4411_11e9_894a_9822ef93214clevel0_row4\" class=\"row_heading level0 row4\" >25-29</th>\n",
       "                        <td id=\"T_050994da_4411_11e9_894a_9822ef93214crow4_col0\" class=\"data row4 col0\" >13.37</td>\n",
       "                        <td id=\"T_050994da_4411_11e9_894a_9822ef93214crow4_col1\" class=\"data row4 col1\" >77</td>\n",
       "            </tr>\n",
       "            <tr>\n",
       "                        <th id=\"T_050994da_4411_11e9_894a_9822ef93214clevel0_row5\" class=\"row_heading level0 row5\" >30-34</th>\n",
       "                        <td id=\"T_050994da_4411_11e9_894a_9822ef93214crow5_col0\" class=\"data row5 col0\" >9.03</td>\n",
       "                        <td id=\"T_050994da_4411_11e9_894a_9822ef93214crow5_col1\" class=\"data row5 col1\" >52</td>\n",
       "            </tr>\n",
       "            <tr>\n",
       "                        <th id=\"T_050994da_4411_11e9_894a_9822ef93214clevel0_row6\" class=\"row_heading level0 row6\" >35-39</th>\n",
       "                        <td id=\"T_050994da_4411_11e9_894a_9822ef93214crow6_col0\" class=\"data row6 col0\" >5.38</td>\n",
       "                        <td id=\"T_050994da_4411_11e9_894a_9822ef93214crow6_col1\" class=\"data row6 col1\" >31</td>\n",
       "            </tr>\n",
       "            <tr>\n",
       "                        <th id=\"T_050994da_4411_11e9_894a_9822ef93214clevel0_row7\" class=\"row_heading level0 row7\" >40+</th>\n",
       "                        <td id=\"T_050994da_4411_11e9_894a_9822ef93214crow7_col0\" class=\"data row7 col0\" >2.08</td>\n",
       "                        <td id=\"T_050994da_4411_11e9_894a_9822ef93214crow7_col1\" class=\"data row7 col1\" >12</td>\n",
       "            </tr>\n",
       "    </tbody></table>"
      ],
      "text/plain": [
       "<pandas.io.formats.style.Styler at 0xc1b5d70>"
      ]
     },
     "execution_count": 6,
     "metadata": {},
     "output_type": "execute_result"
    }
   ],
   "source": []
  },
  {
   "cell_type": "markdown",
   "metadata": {},
   "source": [
    "## Purchasing Analysis (Age)"
   ]
  },
  {
   "cell_type": "markdown",
   "metadata": {},
   "source": [
    "* The below each broken into groups of 4 years (i.e. &lt;10, 10-14, 15-19, etc.)\n",
    "  * Purchase Count\n",
    "  * Average Purchase Price\n",
    "  * Total Purchase Value\n",
    "  * Average Purchase Total per Person by Age Group\n",
    "* Bin the purchase_data data frame by age\n",
    "* Run basic calculations to obtain purchase count, avg. purchase price, avg. purchase total per person etc. in the table below\n",
    "* Create a summary data frame to hold the results\n",
    "* Display the summary data frame"
   ]
  },
  {
   "cell_type": "code",
   "execution_count": 7,
   "metadata": {},
   "outputs": [
    {
     "data": {
      "text/html": [
       "<style  type=\"text/css\" >\n",
       "</style><table id=\"T_050fc9cc_4411_11e9_b456_9822ef93214c\" ><thead>    <tr>        <th class=\"blank level0\" ></th>        <th class=\"col_heading level0 col0\" >Purchase Count</th>        <th class=\"col_heading level0 col1\" >Average Purchase Price</th>        <th class=\"col_heading level0 col2\" >Total Purchase Value</th>        <th class=\"col_heading level0 col3\" >Average Purchase Total per Person</th>    </tr></thead><tbody>\n",
       "                <tr>\n",
       "                        <th id=\"T_050fc9cc_4411_11e9_b456_9822ef93214clevel0_row0\" class=\"row_heading level0 row0\" ><10</th>\n",
       "                        <td id=\"T_050fc9cc_4411_11e9_b456_9822ef93214crow0_col0\" class=\"data row0 col0\" >23</td>\n",
       "                        <td id=\"T_050fc9cc_4411_11e9_b456_9822ef93214crow0_col1\" class=\"data row0 col1\" >$3.35</td>\n",
       "                        <td id=\"T_050fc9cc_4411_11e9_b456_9822ef93214crow0_col2\" class=\"data row0 col2\" >$77.13</td>\n",
       "                        <td id=\"T_050fc9cc_4411_11e9_b456_9822ef93214crow0_col3\" class=\"data row0 col3\" >$4.54</td>\n",
       "            </tr>\n",
       "            <tr>\n",
       "                        <th id=\"T_050fc9cc_4411_11e9_b456_9822ef93214clevel0_row1\" class=\"row_heading level0 row1\" >10-14</th>\n",
       "                        <td id=\"T_050fc9cc_4411_11e9_b456_9822ef93214crow1_col0\" class=\"data row1 col0\" >28</td>\n",
       "                        <td id=\"T_050fc9cc_4411_11e9_b456_9822ef93214crow1_col1\" class=\"data row1 col1\" >$2.96</td>\n",
       "                        <td id=\"T_050fc9cc_4411_11e9_b456_9822ef93214crow1_col2\" class=\"data row1 col2\" >$82.78</td>\n",
       "                        <td id=\"T_050fc9cc_4411_11e9_b456_9822ef93214crow1_col3\" class=\"data row1 col3\" >$3.76</td>\n",
       "            </tr>\n",
       "            <tr>\n",
       "                        <th id=\"T_050fc9cc_4411_11e9_b456_9822ef93214clevel0_row2\" class=\"row_heading level0 row2\" >15-19</th>\n",
       "                        <td id=\"T_050fc9cc_4411_11e9_b456_9822ef93214crow2_col0\" class=\"data row2 col0\" >136</td>\n",
       "                        <td id=\"T_050fc9cc_4411_11e9_b456_9822ef93214crow2_col1\" class=\"data row2 col1\" >$3.04</td>\n",
       "                        <td id=\"T_050fc9cc_4411_11e9_b456_9822ef93214crow2_col2\" class=\"data row2 col2\" >$412.89</td>\n",
       "                        <td id=\"T_050fc9cc_4411_11e9_b456_9822ef93214crow2_col3\" class=\"data row2 col3\" >$3.86</td>\n",
       "            </tr>\n",
       "            <tr>\n",
       "                        <th id=\"T_050fc9cc_4411_11e9_b456_9822ef93214clevel0_row3\" class=\"row_heading level0 row3\" >20-24</th>\n",
       "                        <td id=\"T_050fc9cc_4411_11e9_b456_9822ef93214crow3_col0\" class=\"data row3 col0\" >365</td>\n",
       "                        <td id=\"T_050fc9cc_4411_11e9_b456_9822ef93214crow3_col1\" class=\"data row3 col1\" >$3.05</td>\n",
       "                        <td id=\"T_050fc9cc_4411_11e9_b456_9822ef93214crow3_col2\" class=\"data row3 col2\" >$1,114.06</td>\n",
       "                        <td id=\"T_050fc9cc_4411_11e9_b456_9822ef93214crow3_col3\" class=\"data row3 col3\" >$4.32</td>\n",
       "            </tr>\n",
       "            <tr>\n",
       "                        <th id=\"T_050fc9cc_4411_11e9_b456_9822ef93214clevel0_row4\" class=\"row_heading level0 row4\" >25-29</th>\n",
       "                        <td id=\"T_050fc9cc_4411_11e9_b456_9822ef93214crow4_col0\" class=\"data row4 col0\" >101</td>\n",
       "                        <td id=\"T_050fc9cc_4411_11e9_b456_9822ef93214crow4_col1\" class=\"data row4 col1\" >$2.90</td>\n",
       "                        <td id=\"T_050fc9cc_4411_11e9_b456_9822ef93214crow4_col2\" class=\"data row4 col2\" >$293.00</td>\n",
       "                        <td id=\"T_050fc9cc_4411_11e9_b456_9822ef93214crow4_col3\" class=\"data row4 col3\" >$3.81</td>\n",
       "            </tr>\n",
       "            <tr>\n",
       "                        <th id=\"T_050fc9cc_4411_11e9_b456_9822ef93214clevel0_row5\" class=\"row_heading level0 row5\" >30-34</th>\n",
       "                        <td id=\"T_050fc9cc_4411_11e9_b456_9822ef93214crow5_col0\" class=\"data row5 col0\" >73</td>\n",
       "                        <td id=\"T_050fc9cc_4411_11e9_b456_9822ef93214crow5_col1\" class=\"data row5 col1\" >$2.93</td>\n",
       "                        <td id=\"T_050fc9cc_4411_11e9_b456_9822ef93214crow5_col2\" class=\"data row5 col2\" >$214.00</td>\n",
       "                        <td id=\"T_050fc9cc_4411_11e9_b456_9822ef93214crow5_col3\" class=\"data row5 col3\" >$4.12</td>\n",
       "            </tr>\n",
       "            <tr>\n",
       "                        <th id=\"T_050fc9cc_4411_11e9_b456_9822ef93214clevel0_row6\" class=\"row_heading level0 row6\" >35-39</th>\n",
       "                        <td id=\"T_050fc9cc_4411_11e9_b456_9822ef93214crow6_col0\" class=\"data row6 col0\" >41</td>\n",
       "                        <td id=\"T_050fc9cc_4411_11e9_b456_9822ef93214crow6_col1\" class=\"data row6 col1\" >$3.60</td>\n",
       "                        <td id=\"T_050fc9cc_4411_11e9_b456_9822ef93214crow6_col2\" class=\"data row6 col2\" >$147.67</td>\n",
       "                        <td id=\"T_050fc9cc_4411_11e9_b456_9822ef93214crow6_col3\" class=\"data row6 col3\" >$4.76</td>\n",
       "            </tr>\n",
       "            <tr>\n",
       "                        <th id=\"T_050fc9cc_4411_11e9_b456_9822ef93214clevel0_row7\" class=\"row_heading level0 row7\" >40+</th>\n",
       "                        <td id=\"T_050fc9cc_4411_11e9_b456_9822ef93214crow7_col0\" class=\"data row7 col0\" >13</td>\n",
       "                        <td id=\"T_050fc9cc_4411_11e9_b456_9822ef93214crow7_col1\" class=\"data row7 col1\" >$2.94</td>\n",
       "                        <td id=\"T_050fc9cc_4411_11e9_b456_9822ef93214crow7_col2\" class=\"data row7 col2\" >$38.24</td>\n",
       "                        <td id=\"T_050fc9cc_4411_11e9_b456_9822ef93214crow7_col3\" class=\"data row7 col3\" >$3.19</td>\n",
       "            </tr>\n",
       "    </tbody></table>"
      ],
      "text/plain": [
       "<pandas.io.formats.style.Styler at 0x5a3b9f0>"
      ]
     },
     "execution_count": 7,
     "metadata": {},
     "output_type": "execute_result"
    }
   ],
   "source": []
  },
  {
   "cell_type": "markdown",
   "metadata": {},
   "source": [
    "## Top Spenders"
   ]
  },
  {
   "cell_type": "markdown",
   "metadata": {},
   "source": [
    "* Identify the the top 5 spenders in the game by total purchase value (top-5 players with highest total purchase value), then list (in a table):\n",
    "  * SN(screen name)\n",
    "  * Purchase Count\n",
    "  * Average Purchase Price\n",
    "  * Total Purchase Value\n",
    "* Run basic calculations to obtain the results in the table below\n",
    "* Create a summary data frame to hold the results\n",
    "* Sort the total purchase value column in descending order\n",
    "* Display a preview of the summary data frame"
   ]
  },
  {
   "cell_type": "code",
   "execution_count": 8,
   "metadata": {},
   "outputs": [
    {
     "data": {
      "text/html": [
       "<style  type=\"text/css\" >\n",
       "</style><table id=\"T_0516cc54_4411_11e9_9910_9822ef93214c\" ><thead>    <tr>        <th class=\"blank level0\" ></th>        <th class=\"col_heading level0 col0\" >Purchase Count</th>        <th class=\"col_heading level0 col1\" >Average Purchase Price</th>        <th class=\"col_heading level0 col2\" >Total Purchase Value</th>    </tr>    <tr>        <th class=\"index_name level0\" >SN</th>        <th class=\"blank\" ></th>        <th class=\"blank\" ></th>        <th class=\"blank\" ></th>    </tr></thead><tbody>\n",
       "                <tr>\n",
       "                        <th id=\"T_0516cc54_4411_11e9_9910_9822ef93214clevel0_row0\" class=\"row_heading level0 row0\" >Lisosia93</th>\n",
       "                        <td id=\"T_0516cc54_4411_11e9_9910_9822ef93214crow0_col0\" class=\"data row0 col0\" >5</td>\n",
       "                        <td id=\"T_0516cc54_4411_11e9_9910_9822ef93214crow0_col1\" class=\"data row0 col1\" >$3.79</td>\n",
       "                        <td id=\"T_0516cc54_4411_11e9_9910_9822ef93214crow0_col2\" class=\"data row0 col2\" >$18.96</td>\n",
       "            </tr>\n",
       "            <tr>\n",
       "                        <th id=\"T_0516cc54_4411_11e9_9910_9822ef93214clevel0_row1\" class=\"row_heading level0 row1\" >Idastidru52</th>\n",
       "                        <td id=\"T_0516cc54_4411_11e9_9910_9822ef93214crow1_col0\" class=\"data row1 col0\" >4</td>\n",
       "                        <td id=\"T_0516cc54_4411_11e9_9910_9822ef93214crow1_col1\" class=\"data row1 col1\" >$3.86</td>\n",
       "                        <td id=\"T_0516cc54_4411_11e9_9910_9822ef93214crow1_col2\" class=\"data row1 col2\" >$15.45</td>\n",
       "            </tr>\n",
       "            <tr>\n",
       "                        <th id=\"T_0516cc54_4411_11e9_9910_9822ef93214clevel0_row2\" class=\"row_heading level0 row2\" >Chamjask73</th>\n",
       "                        <td id=\"T_0516cc54_4411_11e9_9910_9822ef93214crow2_col0\" class=\"data row2 col0\" >3</td>\n",
       "                        <td id=\"T_0516cc54_4411_11e9_9910_9822ef93214crow2_col1\" class=\"data row2 col1\" >$4.61</td>\n",
       "                        <td id=\"T_0516cc54_4411_11e9_9910_9822ef93214crow2_col2\" class=\"data row2 col2\" >$13.83</td>\n",
       "            </tr>\n",
       "            <tr>\n",
       "                        <th id=\"T_0516cc54_4411_11e9_9910_9822ef93214clevel0_row3\" class=\"row_heading level0 row3\" >Iral74</th>\n",
       "                        <td id=\"T_0516cc54_4411_11e9_9910_9822ef93214crow3_col0\" class=\"data row3 col0\" >4</td>\n",
       "                        <td id=\"T_0516cc54_4411_11e9_9910_9822ef93214crow3_col1\" class=\"data row3 col1\" >$3.40</td>\n",
       "                        <td id=\"T_0516cc54_4411_11e9_9910_9822ef93214crow3_col2\" class=\"data row3 col2\" >$13.62</td>\n",
       "            </tr>\n",
       "            <tr>\n",
       "                        <th id=\"T_0516cc54_4411_11e9_9910_9822ef93214clevel0_row4\" class=\"row_heading level0 row4\" >Iskadarya95</th>\n",
       "                        <td id=\"T_0516cc54_4411_11e9_9910_9822ef93214crow4_col0\" class=\"data row4 col0\" >3</td>\n",
       "                        <td id=\"T_0516cc54_4411_11e9_9910_9822ef93214crow4_col1\" class=\"data row4 col1\" >$4.37</td>\n",
       "                        <td id=\"T_0516cc54_4411_11e9_9910_9822ef93214crow4_col2\" class=\"data row4 col2\" >$13.10</td>\n",
       "            </tr>\n",
       "    </tbody></table>"
      ],
      "text/plain": [
       "<pandas.io.formats.style.Styler at 0xb7ab750>"
      ]
     },
     "execution_count": 8,
     "metadata": {},
     "output_type": "execute_result"
    }
   ],
   "source": []
  },
  {
   "cell_type": "markdown",
   "metadata": {},
   "source": [
    "## Most Popular Items"
   ]
  },
  {
   "cell_type": "markdown",
   "metadata": {},
   "source": [
    "* Top 5 most popular items by purchase count:\n",
    "  * Item ID\n",
    "  * Item Name\n",
    "  * Purchase Count\n",
    "  * Item Price\n",
    "  * Total Purchase Value\n",
    "* Retrieve the Item ID, Item Name, and Item Price columns\n",
    "* Group by Item ID and Item Name. Perform calculations to obtain purchase count, item price, and total purchase value\n",
    "* Create a summary data frame to hold the results\n",
    "* Sort the purchase count column in descending order\n",
    "* Display a preview of the summary data frame"
   ]
  },
  {
   "cell_type": "code",
   "execution_count": 9,
   "metadata": {},
   "outputs": [
    {
     "data": {
      "text/html": [
       "<style  type=\"text/css\" >\n",
       "</style><table id=\"T_051eb3ca_4411_11e9_8c15_9822ef93214c\" ><thead>    <tr>        <th class=\"blank\" ></th>        <th class=\"blank level0\" ></th>        <th class=\"col_heading level0 col0\" >Purchase Count</th>        <th class=\"col_heading level0 col1\" >Item Price</th>        <th class=\"col_heading level0 col2\" >Total Purchase Value</th>    </tr>    <tr>        <th class=\"index_name level0\" >Item ID</th>        <th class=\"index_name level1\" >Item Name</th>        <th class=\"blank\" ></th>        <th class=\"blank\" ></th>        <th class=\"blank\" ></th>    </tr></thead><tbody>\n",
       "                <tr>\n",
       "                        <th id=\"T_051eb3ca_4411_11e9_8c15_9822ef93214clevel0_row0\" class=\"row_heading level0 row0\" >178</th>\n",
       "                        <th id=\"T_051eb3ca_4411_11e9_8c15_9822ef93214clevel1_row0\" class=\"row_heading level1 row0\" >Oathbreaker, Last Hope of the Breaking Storm</th>\n",
       "                        <td id=\"T_051eb3ca_4411_11e9_8c15_9822ef93214crow0_col0\" class=\"data row0 col0\" >12</td>\n",
       "                        <td id=\"T_051eb3ca_4411_11e9_8c15_9822ef93214crow0_col1\" class=\"data row0 col1\" >$4.23</td>\n",
       "                        <td id=\"T_051eb3ca_4411_11e9_8c15_9822ef93214crow0_col2\" class=\"data row0 col2\" >$50.76</td>\n",
       "            </tr>\n",
       "            <tr>\n",
       "                        <th id=\"T_051eb3ca_4411_11e9_8c15_9822ef93214clevel0_row1\" class=\"row_heading level0 row1\" >145</th>\n",
       "                        <th id=\"T_051eb3ca_4411_11e9_8c15_9822ef93214clevel1_row1\" class=\"row_heading level1 row1\" >Fiery Glass Crusader</th>\n",
       "                        <td id=\"T_051eb3ca_4411_11e9_8c15_9822ef93214crow1_col0\" class=\"data row1 col0\" >9</td>\n",
       "                        <td id=\"T_051eb3ca_4411_11e9_8c15_9822ef93214crow1_col1\" class=\"data row1 col1\" >$4.58</td>\n",
       "                        <td id=\"T_051eb3ca_4411_11e9_8c15_9822ef93214crow1_col2\" class=\"data row1 col2\" >$41.22</td>\n",
       "            </tr>\n",
       "            <tr>\n",
       "                        <th id=\"T_051eb3ca_4411_11e9_8c15_9822ef93214clevel0_row2\" class=\"row_heading level0 row2\" >108</th>\n",
       "                        <th id=\"T_051eb3ca_4411_11e9_8c15_9822ef93214clevel1_row2\" class=\"row_heading level1 row2\" >Extraction, Quickblade Of Trembling Hands</th>\n",
       "                        <td id=\"T_051eb3ca_4411_11e9_8c15_9822ef93214crow2_col0\" class=\"data row2 col0\" >9</td>\n",
       "                        <td id=\"T_051eb3ca_4411_11e9_8c15_9822ef93214crow2_col1\" class=\"data row2 col1\" >$3.53</td>\n",
       "                        <td id=\"T_051eb3ca_4411_11e9_8c15_9822ef93214crow2_col2\" class=\"data row2 col2\" >$31.77</td>\n",
       "            </tr>\n",
       "            <tr>\n",
       "                        <th id=\"T_051eb3ca_4411_11e9_8c15_9822ef93214clevel0_row3\" class=\"row_heading level0 row3\" >82</th>\n",
       "                        <th id=\"T_051eb3ca_4411_11e9_8c15_9822ef93214clevel1_row3\" class=\"row_heading level1 row3\" >Nirvana</th>\n",
       "                        <td id=\"T_051eb3ca_4411_11e9_8c15_9822ef93214crow3_col0\" class=\"data row3 col0\" >9</td>\n",
       "                        <td id=\"T_051eb3ca_4411_11e9_8c15_9822ef93214crow3_col1\" class=\"data row3 col1\" >$4.90</td>\n",
       "                        <td id=\"T_051eb3ca_4411_11e9_8c15_9822ef93214crow3_col2\" class=\"data row3 col2\" >$44.10</td>\n",
       "            </tr>\n",
       "            <tr>\n",
       "                        <th id=\"T_051eb3ca_4411_11e9_8c15_9822ef93214clevel0_row4\" class=\"row_heading level0 row4\" >19</th>\n",
       "                        <th id=\"T_051eb3ca_4411_11e9_8c15_9822ef93214clevel1_row4\" class=\"row_heading level1 row4\" >Pursuit, Cudgel of Necromancy</th>\n",
       "                        <td id=\"T_051eb3ca_4411_11e9_8c15_9822ef93214crow4_col0\" class=\"data row4 col0\" >8</td>\n",
       "                        <td id=\"T_051eb3ca_4411_11e9_8c15_9822ef93214crow4_col1\" class=\"data row4 col1\" >$1.02</td>\n",
       "                        <td id=\"T_051eb3ca_4411_11e9_8c15_9822ef93214crow4_col2\" class=\"data row4 col2\" >$8.16</td>\n",
       "            </tr>\n",
       "    </tbody></table>"
      ],
      "text/plain": [
       "<pandas.io.formats.style.Styler at 0xc1cbbf0>"
      ]
     },
     "execution_count": 9,
     "metadata": {},
     "output_type": "execute_result"
    }
   ],
   "source": []
  },
  {
   "cell_type": "markdown",
   "metadata": {},
   "source": [
    "## Most Profitable Items"
   ]
  },
  {
   "cell_type": "markdown",
   "metadata": {},
   "source": [
    "* Top 5 most profitable items by total purchase value:\n",
    "  * Item ID\n",
    "  * Item Name\n",
    "  * Purchase Count\n",
    "  * Item Price\n",
    "  * Total Purchase Value\n",
    "* Sort the above table by total purchase value in descending order\n",
    "* Display a preview of the data frame"
   ]
  },
  {
   "cell_type": "code",
   "execution_count": 10,
   "metadata": {
    "scrolled": true
   },
   "outputs": [
    {
     "data": {
      "text/html": [
       "<style  type=\"text/css\" >\n",
       "</style><table id=\"T_05231d8a_4411_11e9_80c0_9822ef93214c\" ><thead>    <tr>        <th class=\"blank\" ></th>        <th class=\"blank level0\" ></th>        <th class=\"col_heading level0 col0\" >Purchase Count</th>        <th class=\"col_heading level0 col1\" >Item Price</th>        <th class=\"col_heading level0 col2\" >Total Purchase Value</th>    </tr>    <tr>        <th class=\"index_name level0\" >Item ID</th>        <th class=\"index_name level1\" >Item Name</th>        <th class=\"blank\" ></th>        <th class=\"blank\" ></th>        <th class=\"blank\" ></th>    </tr></thead><tbody>\n",
       "                <tr>\n",
       "                        <th id=\"T_05231d8a_4411_11e9_80c0_9822ef93214clevel0_row0\" class=\"row_heading level0 row0\" >178</th>\n",
       "                        <th id=\"T_05231d8a_4411_11e9_80c0_9822ef93214clevel1_row0\" class=\"row_heading level1 row0\" >Oathbreaker, Last Hope of the Breaking Storm</th>\n",
       "                        <td id=\"T_05231d8a_4411_11e9_80c0_9822ef93214crow0_col0\" class=\"data row0 col0\" >12</td>\n",
       "                        <td id=\"T_05231d8a_4411_11e9_80c0_9822ef93214crow0_col1\" class=\"data row0 col1\" >$4.23</td>\n",
       "                        <td id=\"T_05231d8a_4411_11e9_80c0_9822ef93214crow0_col2\" class=\"data row0 col2\" >$50.76</td>\n",
       "            </tr>\n",
       "            <tr>\n",
       "                        <th id=\"T_05231d8a_4411_11e9_80c0_9822ef93214clevel0_row1\" class=\"row_heading level0 row1\" >82</th>\n",
       "                        <th id=\"T_05231d8a_4411_11e9_80c0_9822ef93214clevel1_row1\" class=\"row_heading level1 row1\" >Nirvana</th>\n",
       "                        <td id=\"T_05231d8a_4411_11e9_80c0_9822ef93214crow1_col0\" class=\"data row1 col0\" >9</td>\n",
       "                        <td id=\"T_05231d8a_4411_11e9_80c0_9822ef93214crow1_col1\" class=\"data row1 col1\" >$4.90</td>\n",
       "                        <td id=\"T_05231d8a_4411_11e9_80c0_9822ef93214crow1_col2\" class=\"data row1 col2\" >$44.10</td>\n",
       "            </tr>\n",
       "            <tr>\n",
       "                        <th id=\"T_05231d8a_4411_11e9_80c0_9822ef93214clevel0_row2\" class=\"row_heading level0 row2\" >145</th>\n",
       "                        <th id=\"T_05231d8a_4411_11e9_80c0_9822ef93214clevel1_row2\" class=\"row_heading level1 row2\" >Fiery Glass Crusader</th>\n",
       "                        <td id=\"T_05231d8a_4411_11e9_80c0_9822ef93214crow2_col0\" class=\"data row2 col0\" >9</td>\n",
       "                        <td id=\"T_05231d8a_4411_11e9_80c0_9822ef93214crow2_col1\" class=\"data row2 col1\" >$4.58</td>\n",
       "                        <td id=\"T_05231d8a_4411_11e9_80c0_9822ef93214crow2_col2\" class=\"data row2 col2\" >$41.22</td>\n",
       "            </tr>\n",
       "            <tr>\n",
       "                        <th id=\"T_05231d8a_4411_11e9_80c0_9822ef93214clevel0_row3\" class=\"row_heading level0 row3\" >92</th>\n",
       "                        <th id=\"T_05231d8a_4411_11e9_80c0_9822ef93214clevel1_row3\" class=\"row_heading level1 row3\" >Final Critic</th>\n",
       "                        <td id=\"T_05231d8a_4411_11e9_80c0_9822ef93214crow3_col0\" class=\"data row3 col0\" >8</td>\n",
       "                        <td id=\"T_05231d8a_4411_11e9_80c0_9822ef93214crow3_col1\" class=\"data row3 col1\" >$4.88</td>\n",
       "                        <td id=\"T_05231d8a_4411_11e9_80c0_9822ef93214crow3_col2\" class=\"data row3 col2\" >$39.04</td>\n",
       "            </tr>\n",
       "            <tr>\n",
       "                        <th id=\"T_05231d8a_4411_11e9_80c0_9822ef93214clevel0_row4\" class=\"row_heading level0 row4\" >103</th>\n",
       "                        <th id=\"T_05231d8a_4411_11e9_80c0_9822ef93214clevel1_row4\" class=\"row_heading level1 row4\" >Singed Scalpel</th>\n",
       "                        <td id=\"T_05231d8a_4411_11e9_80c0_9822ef93214crow4_col0\" class=\"data row4 col0\" >8</td>\n",
       "                        <td id=\"T_05231d8a_4411_11e9_80c0_9822ef93214crow4_col1\" class=\"data row4 col1\" >$4.35</td>\n",
       "                        <td id=\"T_05231d8a_4411_11e9_80c0_9822ef93214crow4_col2\" class=\"data row4 col2\" >$34.80</td>\n",
       "            </tr>\n",
       "    </tbody></table>"
      ],
      "text/plain": [
       "<pandas.io.formats.style.Styler at 0xb7ab5d0>"
      ]
     },
     "execution_count": 10,
     "metadata": {},
     "output_type": "execute_result"
    }
   ],
   "source": []
  }
 ],
 "metadata": {
  "anaconda-cloud": {},
  "kernel_info": {
   "name": "python3"
  },
  "kernelspec": {
   "display_name": "Python 3",
   "language": "python",
   "name": "python3"
  },
  "language_info": {
   "codemirror_mode": {
    "name": "ipython",
    "version": 3
   },
   "file_extension": ".py",
   "mimetype": "text/x-python",
   "name": "python",
   "nbconvert_exporter": "python",
   "pygments_lexer": "ipython3",
   "version": "3.11.4"
  },
  "nteract": {
   "version": "0.8.4"
  }
 },
 "nbformat": 4,
 "nbformat_minor": 2
}
