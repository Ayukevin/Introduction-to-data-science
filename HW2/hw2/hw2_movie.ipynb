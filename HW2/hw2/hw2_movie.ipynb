{
 "cells": [
  {
   "cell_type": "code",
   "execution_count": 205,
   "metadata": {},
   "outputs": [
    {
     "data": {
      "text/plain": [
       "Index(['Rank', 'Title', 'Genre', 'Director', 'Actors', 'Year',\n",
       "       'Runtime (Minutes)', 'Rating', 'Votes', 'Revenue (Millions)',\n",
       "       'Metascore'],\n",
       "      dtype='object')"
      ]
     },
     "execution_count": 205,
     "metadata": {},
     "output_type": "execute_result"
    }
   ],
   "source": [
    "import pandas as pd\n",
    "df = pd.read_csv('IMDB-Movie-Data.csv')\n",
    "df.columns"
   ]
  },
  {
   "cell_type": "markdown",
   "metadata": {},
   "source": [
    "Top‐3 movies with the highest ratings in 2016?"
   ]
  },
  {
   "cell_type": "code",
   "execution_count": 206,
   "metadata": {},
   "outputs": [
    {
     "data": {
      "text/html": [
       "<div>\n",
       "<style scoped>\n",
       "    .dataframe tbody tr th:only-of-type {\n",
       "        vertical-align: middle;\n",
       "    }\n",
       "\n",
       "    .dataframe tbody tr th {\n",
       "        vertical-align: top;\n",
       "    }\n",
       "\n",
       "    .dataframe thead th {\n",
       "        text-align: right;\n",
       "    }\n",
       "</style>\n",
       "<table border=\"1\" class=\"dataframe\">\n",
       "  <thead>\n",
       "    <tr style=\"text-align: right;\">\n",
       "      <th></th>\n",
       "      <th>Title</th>\n",
       "      <th>Rating</th>\n",
       "    </tr>\n",
       "  </thead>\n",
       "  <tbody>\n",
       "    <tr>\n",
       "      <th>0</th>\n",
       "      <td>The Dark Knight</td>\n",
       "      <td>9.0</td>\n",
       "    </tr>\n",
       "    <tr>\n",
       "      <th>2</th>\n",
       "      <td>Dangal</td>\n",
       "      <td>8.8</td>\n",
       "    </tr>\n",
       "    <tr>\n",
       "      <th>1</th>\n",
       "      <td>Inception</td>\n",
       "      <td>8.8</td>\n",
       "    </tr>\n",
       "  </tbody>\n",
       "</table>\n",
       "</div>"
      ],
      "text/plain": [
       "             Title  Rating\n",
       "0  The Dark Knight     9.0\n",
       "2           Dangal     8.8\n",
       "1        Inception     8.8"
      ]
     },
     "execution_count": 206,
     "metadata": {},
     "output_type": "execute_result"
    }
   ],
   "source": [
    "temp = df.loc[:,['Title','Rating']]\n",
    "temp.sort_values(by='Rating',ascending=False)[0:3]"
   ]
  },
  {
   "cell_type": "markdown",
   "metadata": {},
   "source": [
    "The actor generating the highest average revenue?"
   ]
  },
  {
   "cell_type": "code",
   "execution_count": 207,
   "metadata": {},
   "outputs": [
    {
     "name": "stdout",
     "output_type": "stream",
     "text": [
      "['Christian Bale', 'Heath Ledger', 'Aaron Eckhart', 'Michael Caine']\n",
      "['Leonardo DiCaprio', 'Joseph Gordon-Levitt', 'Ellen Page', 'Ken Watanabe']\n",
      "['Aamir Khan', 'Sakshi Tanwar', 'Fatima Sana Shaikh', 'Sanya Malhotra']\n"
     ]
    },
    {
     "name": "stderr",
     "output_type": "stream",
     "text": [
      "C:\\Users\\user\\AppData\\Local\\Temp\\ipykernel_36480\\2109630639.py:8: SettingWithCopyWarning: \n",
      "A value is trying to be set on a copy of a slice from a DataFrame\n",
      "\n",
      "See the caveats in the documentation: https://pandas.pydata.org/pandas-docs/stable/user_guide/indexing.html#returning-a-view-versus-a-copy\n",
      "  df['Actors'][i] =actor\n",
      "C:\\Users\\user\\AppData\\Local\\Temp\\ipykernel_36480\\2109630639.py:8: SettingWithCopyWarning: \n",
      "A value is trying to be set on a copy of a slice from a DataFrame\n",
      "\n",
      "See the caveats in the documentation: https://pandas.pydata.org/pandas-docs/stable/user_guide/indexing.html#returning-a-view-versus-a-copy\n",
      "  df['Actors'][i] =actor\n",
      "C:\\Users\\user\\AppData\\Local\\Temp\\ipykernel_36480\\2109630639.py:8: SettingWithCopyWarning: \n",
      "A value is trying to be set on a copy of a slice from a DataFrame\n",
      "\n",
      "See the caveats in the documentation: https://pandas.pydata.org/pandas-docs/stable/user_guide/indexing.html#returning-a-view-versus-a-copy\n",
      "  df['Actors'][i] =actor\n"
     ]
    },
    {
     "data": {
      "text/plain": [
       "['Christian Bale', 'Heath Ledger', 'Aaron Eckhart', 'Michael Caine']"
      ]
     },
     "execution_count": 207,
     "metadata": {},
     "output_type": "execute_result"
    }
   ],
   "source": [
    "df['Revenue (Millions)'].fillna(0,inplace=True) \n",
    "temp = {}\n",
    "for i in range(3): \n",
    "    actor = df['Actors'][i].split(\"|\") #分隔線後還有一格，這樣才能取出完整的名稱\n",
    "    for j in range(len(actor)):\n",
    "        actor[j] = actor[j].strip()\n",
    "    print(actor)\n",
    "    df['Actors'][i] =actor\n",
    "    for k in actor:\n",
    "        if k in temp:\n",
    "            temp[k].append(df['Revenue (Millions)'][i])\n",
    "        else:\n",
    "            temp[k] = [df['Revenue (Millions)'][i]]\n",
    "\n",
    "#highest 'Average' revenue\n",
    "for key, values in temp.items() :\n",
    "    temp[key] = sum(values)/len(values)\n",
    "\n",
    "# highest_revenue = pd.DataFrame.from_dict(temp,orient=\"index\").rename(columns={0: \"Revenue\"})\n",
    "# highest_revenue.sort_values(by='Revenue',ascending=False)\n",
    "# highest_revenue.iloc[0]\n",
    "df['Actors'][0]\n"
   ]
  },
  {
   "cell_type": "markdown",
   "metadata": {},
   "source": [
    "The average rating of Emma Watson’s movies?"
   ]
  },
  {
   "cell_type": "code",
   "execution_count": 208,
   "metadata": {},
   "outputs": [
    {
     "name": "stdout",
     "output_type": "stream",
     "text": [
      "['Christian Bale', 'Heath Ledger', 'Aaron Eckhart', 'Michael Caine'] a\n",
      "['Christian Bale', 'Heath Ledger', 'Aaron Eckhart', 'Michael Caine'] a\n"
     ]
    },
    {
     "ename": "ZeroDivisionError",
     "evalue": "division by zero",
     "output_type": "error",
     "traceback": [
      "\u001b[1;31m---------------------------------------------------------------------------\u001b[0m",
      "\u001b[1;31mZeroDivisionError\u001b[0m                         Traceback (most recent call last)",
      "Cell \u001b[1;32mIn[208], line 9\u001b[0m\n\u001b[0;32m      7\u001b[0m             emma_rating\u001b[38;5;241m.\u001b[39mappend(df[\u001b[38;5;124m'\u001b[39m\u001b[38;5;124mRating\u001b[39m\u001b[38;5;124m'\u001b[39m][i]) \n\u001b[0;32m      8\u001b[0m \u001b[38;5;28mprint\u001b[39m(df[\u001b[38;5;124m'\u001b[39m\u001b[38;5;124mActors\u001b[39m\u001b[38;5;124m'\u001b[39m][\u001b[38;5;241m0\u001b[39m],\u001b[38;5;124m'\u001b[39m\u001b[38;5;124ma\u001b[39m\u001b[38;5;124m'\u001b[39m)\n\u001b[1;32m----> 9\u001b[0m \u001b[38;5;28mprint\u001b[39m(\u001b[38;5;124m'\u001b[39m\u001b[38;5;124mThe average rating of Emma Watson’s movies is\u001b[39m\u001b[38;5;124m'\u001b[39m,\u001b[38;5;28;43msum\u001b[39;49m\u001b[43m(\u001b[49m\u001b[43memma_rating\u001b[49m\u001b[43m)\u001b[49m\u001b[38;5;241;43m/\u001b[39;49m\u001b[38;5;28;43mlen\u001b[39;49m\u001b[43m(\u001b[49m\u001b[43memma_rating\u001b[49m\u001b[43m)\u001b[49m)\n",
      "\u001b[1;31mZeroDivisionError\u001b[0m: division by zero"
     ]
    }
   ],
   "source": [
    "print(df['Actors'][0],'a')\n",
    "emma_rating = []\n",
    "for i in range(df.shape[0]):\n",
    "    actor = df['Actors'][i]\n",
    "    for k in actor:\n",
    "        if k =='Emma Watson':\n",
    "            emma_rating.append(df['Rating'][i]) \n",
    "print(df['Actors'][0],'a')\n",
    "print('The average rating of Emma Watson’s movies is',sum(emma_rating)/len(emma_rating))"
   ]
  },
  {
   "cell_type": "markdown",
   "metadata": {},
   "source": [
    "Top‐3 directors who collaborate with the most actors?"
   ]
  },
  {
   "cell_type": "code",
   "execution_count": 203,
   "metadata": {},
   "outputs": [
    {
     "name": "stdout",
     "output_type": "stream",
     "text": [
      "['Christian Bale', 'Heath Ledger', 'Aaron Eckhart', 'Michael Caine', 'Leonardo DiCaprio', 'Joseph Gordon-Levitt', 'Ellen Page', 'Ken Watanabe'] a\n",
      "{'Christopher Nolan': ['Christian Bale', 'Heath Ledger', 'Aaron Eckhart', 'Michael Caine', 'Leonardo DiCaprio', 'Joseph Gordon-Levitt', 'Ellen Page', 'Ken Watanabe']}\n",
      "Leonardo DiCaprio\n",
      "Joseph Gordon-Levitt\n",
      "Ellen Page\n",
      "Ken Watanabe\n",
      "{'Christopher Nolan': ['Christian Bale', 'Heath Ledger', 'Aaron Eckhart', 'Michael Caine', 'Leonardo DiCaprio', 'Joseph Gordon-Levitt', 'Ellen Page', 'Ken Watanabe']}\n",
      "{'Christopher Nolan': ['Christian Bale', 'Heath Ledger', 'Aaron Eckhart', 'Michael Caine', 'Leonardo DiCaprio', 'Joseph Gordon-Levitt', 'Ellen Page', 'Ken Watanabe'], 'Nitesh Tiwari': ['Aamir Khan', 'Sakshi Tanwar', 'Fatima Sana Shaikh', 'Sanya Malhotra']}\n"
     ]
    },
    {
     "data": {
      "text/plain": [
       "['Christian Bale',\n",
       " 'Heath Ledger',\n",
       " 'Aaron Eckhart',\n",
       " 'Michael Caine',\n",
       " 'Leonardo DiCaprio',\n",
       " 'Joseph Gordon-Levitt',\n",
       " 'Ellen Page',\n",
       " 'Ken Watanabe']"
      ]
     },
     "execution_count": 203,
     "metadata": {},
     "output_type": "execute_result"
    }
   ],
   "source": [
    "collab ={}\n",
    "print(df['Actors'][0],'a')\n",
    "for i in range(3):#df.shape[0]):\n",
    "    director = df['Director'][i]\n",
    "    actor = df['Actors'][i]\n",
    "    if director in collab:\n",
    "        for k in actor:\n",
    "            print(k)\n",
    "            if k not in collab[director]: #避免重複加入\n",
    "                collab[director].append(k)\n",
    "    else:\n",
    "        collab[director] = actor\n",
    "    print(collab)\n",
    "#計算數量\n",
    "for keys,values in collab.items():\n",
    "    collab[keys] = len(values)\n",
    "\n",
    "collab = pd.DataFrame.from_dict(collab,orient='index').rename(columns={0:'# of collab actor'})\n",
    "\n",
    "collab.sort_values(by='# of collab actor',ascending=False)\n",
    "collab\n",
    "df['Actors'][0]"
   ]
  },
  {
   "cell_type": "code",
   "execution_count": 167,
   "metadata": {},
   "outputs": [
    {
     "name": "stdout",
     "output_type": "stream",
     "text": [
      "{'b': 3}\n",
      "3\n"
     ]
    }
   ],
   "source": [
    "a ={'b':2}\n",
    "a['b'] +=1\n",
    "print(a)\n",
    "a =['1','2','3']\n",
    "print(len(a))"
   ]
  }
 ],
 "metadata": {
  "kernelspec": {
   "display_name": "Python 3",
   "language": "python",
   "name": "python3"
  },
  "language_info": {
   "codemirror_mode": {
    "name": "ipython",
    "version": 3
   },
   "file_extension": ".py",
   "mimetype": "text/x-python",
   "name": "python",
   "nbconvert_exporter": "python",
   "pygments_lexer": "ipython3",
   "version": "3.11.4"
  }
 },
 "nbformat": 4,
 "nbformat_minor": 2
}
